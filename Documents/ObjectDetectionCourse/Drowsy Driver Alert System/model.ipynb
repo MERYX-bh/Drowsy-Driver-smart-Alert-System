{
 "cells": [
  {
   "cell_type": "code",
   "execution_count": 1,
   "id": "5495e2ab",
   "metadata": {},
   "outputs": [],
   "source": [
    "import os\n",
    "from keras.preprocessing import image\n",
    "import matplotlib.pyplot as plt \n",
    "import numpy as np\n",
    "from keras.utils.np_utils import to_categorical\n",
    "import random,shutil\n",
    "from keras.models import Sequential\n",
    "from keras.layers import Dropout,Conv2D,Flatten,Dense, MaxPooling2D, BatchNormalization\n",
    "from keras.models import load_model"
   ]
  },
  {
   "cell_type": "code",
   "execution_count": 2,
   "id": "087f8bab",
   "metadata": {},
   "outputs": [
    {
     "name": "stdout",
     "output_type": "stream",
     "text": [
      "Found 2467 images belonging to 4 classes.\n",
      "Found 433 images belonging to 4 classes.\n",
      "77 13\n"
     ]
    }
   ],
   "source": [
    "def generator(dir, gen=image.ImageDataGenerator(rescale=1./255), shuffle=True,batch_size=1,target_size=(24,24),class_mode='categorical' ): #Cactegorical:pour spécifier qu'il y'aura plusieurs catégories\n",
    "    return gen.flow_from_directory(dir,batch_size=batch_size,shuffle=shuffle,color_mode='grayscale',class_mode=class_mode,target_size=target_size)\n",
    "\n",
    "BS= 32\n",
    "TS=(24,24)\n",
    "train_batch= generator('dataset_new/train',shuffle=True, batch_size=BS,target_size=TS)\n",
    "valid_batch= generator('dataset_new/test',shuffle=True, batch_size=BS,target_size=TS)\n",
    "\n",
    "SPE= len(train_batch.classes)//BS\n",
    "VS = len(valid_batch.classes)//BS\n",
    "print(SPE,VS)"
   ]
  },
  {
   "cell_type": "code",
   "execution_count": 3,
   "id": "6e5e581c",
   "metadata": {},
   "outputs": [],
   "source": [
    "img,labels= next(train_batch)"
   ]
  },
  {
   "cell_type": "code",
   "execution_count": 9,
   "id": "70961a99",
   "metadata": {},
   "outputs": [
    {
     "data": {
      "text/plain": [
       "{'Closed': 0, 'Open': 1, 'no_yawn': 2, 'yawn': 3}"
      ]
     },
     "execution_count": 9,
     "metadata": {},
     "output_type": "execute_result"
    }
   ],
   "source": [
    "train_batch.class_indices"
   ]
  },
  {
   "cell_type": "code",
   "execution_count": 11,
   "id": "08e3af38",
   "metadata": {},
   "outputs": [
    {
     "name": "stderr",
     "output_type": "stream",
     "text": [
      "C:\\Users\\HP FOLIO\\AppData\\Local\\Temp\\ipykernel_7456\\283389998.py:28: UserWarning: `Model.fit_generator` is deprecated and will be removed in a future version. Please use `Model.fit`, which supports generators.\n",
      "  model.fit_generator(train_batch, validation_data=valid_batch,epochs=15,steps_per_epoch=SPE ,validation_steps=VS)\n"
     ]
    },
    {
     "name": "stdout",
     "output_type": "stream",
     "text": [
      "Epoch 1/15\n",
      "77/77 [==============================] - 67s 808ms/step - loss: 0.7256 - accuracy: 0.6764 - val_loss: 0.5102 - val_accuracy: 0.7861\n",
      "Epoch 2/15\n",
      "77/77 [==============================] - 55s 705ms/step - loss: 0.4320 - accuracy: 0.7943 - val_loss: 0.3694 - val_accuracy: 0.7957\n",
      "Epoch 3/15\n",
      "77/77 [==============================] - 51s 665ms/step - loss: 0.3833 - accuracy: 0.8181 - val_loss: 0.3779 - val_accuracy: 0.7981\n",
      "Epoch 4/15\n",
      "77/77 [==============================] - 54s 703ms/step - loss: 0.3407 - accuracy: 0.8522 - val_loss: 0.3012 - val_accuracy: 0.8510\n",
      "Epoch 5/15\n",
      "77/77 [==============================] - 57s 739ms/step - loss: 0.2927 - accuracy: 0.8657 - val_loss: 0.3212 - val_accuracy: 0.8389\n",
      "Epoch 6/15\n",
      "77/77 [==============================] - 59s 768ms/step - loss: 0.2543 - accuracy: 0.8821 - val_loss: 0.3052 - val_accuracy: 0.8510\n",
      "Epoch 7/15\n",
      "77/77 [==============================] - 54s 702ms/step - loss: 0.2254 - accuracy: 0.8973 - val_loss: 0.2584 - val_accuracy: 0.8726\n",
      "Epoch 8/15\n",
      "77/77 [==============================] - 58s 749ms/step - loss: 0.1984 - accuracy: 0.9150 - val_loss: 0.2548 - val_accuracy: 0.8798\n",
      "Epoch 9/15\n",
      "77/77 [==============================] - 56s 722ms/step - loss: 0.1776 - accuracy: 0.9273 - val_loss: 0.2231 - val_accuracy: 0.9014\n",
      "Epoch 10/15\n",
      "77/77 [==============================] - 57s 734ms/step - loss: 0.1528 - accuracy: 0.9396 - val_loss: 0.1894 - val_accuracy: 0.9255\n",
      "Epoch 11/15\n",
      "77/77 [==============================] - 49s 638ms/step - loss: 0.1120 - accuracy: 0.9544 - val_loss: 0.1854 - val_accuracy: 0.9327\n",
      "Epoch 12/15\n",
      "77/77 [==============================] - 54s 708ms/step - loss: 0.1098 - accuracy: 0.9532 - val_loss: 0.1740 - val_accuracy: 0.9303\n",
      "Epoch 13/15\n",
      "77/77 [==============================] - 51s 656ms/step - loss: 0.0942 - accuracy: 0.9651 - val_loss: 0.1595 - val_accuracy: 0.9279\n",
      "Epoch 14/15\n",
      "77/77 [==============================] - 60s 781ms/step - loss: 0.0870 - accuracy: 0.9643 - val_loss: 0.1530 - val_accuracy: 0.9327\n",
      "Epoch 15/15\n",
      "77/77 [==============================] - 47s 615ms/step - loss: 0.0620 - accuracy: 0.9762 - val_loss: 0.1619 - val_accuracy: 0.9423\n"
     ]
    }
   ],
   "source": [
    "model = Sequential([\n",
    "    Conv2D(32, kernel_size=(3, 3), activation='relu', input_shape=(24,24,1)),\n",
    "    MaxPooling2D(pool_size=(1,1)),\n",
    "    Conv2D(32,(3,3),activation='relu'),\n",
    "    MaxPooling2D(pool_size=(1,1)),\n",
    "#32 convolution filters used each of size 3x3\n",
    "#again\n",
    "    Conv2D(64, (3, 3), activation='relu'),\n",
    "    MaxPooling2D(pool_size=(1,1)),\n",
    "\n",
    "#64 convolution filters used each of size 3x3\n",
    "#choose the best features via pooling\n",
    "    \n",
    "#randomly turn neurons on and off to improve convergence\n",
    "    Dropout(0.25),\n",
    "#flatten since too many dimensions, we only want a classification output\n",
    "    Flatten(),\n",
    "#fully connected to get all relevant data\n",
    "    Dense(128, activation='relu'),\n",
    "#one more dropout for convergence' sake :) \n",
    "    Dropout(0.5),\n",
    "#output a softmax to squash the matrix into output probabilities\n",
    "    Dense(4, activation='softmax')\n",
    "])\n",
    "\n",
    "model.compile(optimizer='adam',loss='categorical_crossentropy',metrics=['accuracy'])\n",
    "\n",
    "model.fit_generator(train_batch, validation_data=valid_batch,epochs=15,steps_per_epoch=SPE ,validation_steps=VS)\n",
    "\n",
    "model.save('models/model1.h5', overwrite=True)"
   ]
  },
  {
   "cell_type": "code",
   "execution_count": null,
   "id": "ed8b0b86",
   "metadata": {},
   "outputs": [],
   "source": []
  }
 ],
 "metadata": {
  "kernelspec": {
   "display_name": "Python 3 (ipykernel)",
   "language": "python",
   "name": "python3"
  },
  "language_info": {
   "codemirror_mode": {
    "name": "ipython",
    "version": 3
   },
   "file_extension": ".py",
   "mimetype": "text/x-python",
   "name": "python",
   "nbconvert_exporter": "python",
   "pygments_lexer": "ipython3",
   "version": "3.9.13"
  }
 },
 "nbformat": 4,
 "nbformat_minor": 5
}
